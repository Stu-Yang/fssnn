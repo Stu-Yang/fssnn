{
 "cells": [
  {
   "attachments": {},
   "cell_type": "markdown",
   "metadata": {},
   "source": [
    "There are some basic operations about PySyft\n",
    "\n",
    "Some Goals:\n",
    "\n",
    "+ Addtion and multiplication in the context of secure computation (2PC)\n",
    "+ Matrix addition and matrix multiplication in the context of secure computation (2PC)\n",
    "+ Measure some metrics about secure computation, such as total time and commuiciation info"
   ]
  },
  {
   "cell_type": "code",
   "execution_count": 1,
   "metadata": {},
   "outputs": [],
   "source": [
    "import torch\n",
    "import syft as sy\n",
    "import time\n",
    "import numpy as np\n",
    "import matplotlib.pyplot as plt"
   ]
  },
  {
   "cell_type": "code",
   "execution_count": 2,
   "metadata": {},
   "outputs": [],
   "source": [
    "# 创建工作机\n",
    "hook = sy.TorchHook(torch)\n",
    "bob = sy.VirtualWorker(hook, id=\"bob\")\n",
    "alice = sy.VirtualWorker(hook, id=\"alice\")\n",
    "crypto_provider = sy.VirtualWorker(hook, id=\"crypto_provider\")"
   ]
  },
  {
   "cell_type": "code",
   "execution_count": 3,
   "metadata": {},
   "outputs": [
    {
     "name": "stdout",
     "output_type": "stream",
     "text": [
      "matrix dimension = 32 : Total communication is 0.04591 MB, and total time is 1.32346 s in secure multiplication.\n",
      "matrix dimension = 64 : Total communication is 0.16310 MB, and total time is 1.06048 s in secure multiplication.\n",
      "matrix dimension = 128 : Total communication is 0.63185 MB, and total time is 0.84976 s in secure multiplication.\n",
      "matrix dimension = 256 : Total communication is 2.50687 MB, and total time is 1.12688 s in secure multiplication.\n",
      "matrix dimension = 512 : Total communication is 10.00686 MB, and total time is 1.25906 s in secure multiplication.\n",
      "matrix dimension = 1024 : Total communication is 40.00687 MB, and total time is 1.98404 s in secure multiplication.\n"
     ]
    }
   ],
   "source": [
    "comm = []\n",
    "matrix_dim = []\n",
    "\n",
    "for n in range(1, 7):\n",
    "    row, col = 16 * (2 ** n), 16 * (2 ** n)\n",
    "    matrix_dim.append(row)\n",
    "\n",
    "    A = torch.randint(0, 2**16-1, (row, col))\n",
    "    B = torch.randint(0, 2**16-1, (row, col))\n",
    "\n",
    "    A_ = A.share(bob,alice, crypto_provider=crypto_provider)\n",
    "    B_ = B.share(bob,alice, crypto_provider=crypto_provider)\n",
    "\n",
    "    # seucre multiplication\n",
    "    sy.comm_total = 0           # commuication\n",
    "    time_start = time.time()    # time\n",
    "\n",
    "    C = A_.mm(B_)               # mm() is secure matrix multiplication, is quivalent to matmul()\n",
    "                                # and is defined in ~/gsq_workplace/arinn/PySyft/syft/frameworks/torch/tensors/interpreters/additive_shared.py line 679\n",
    "    C.get()\n",
    "\n",
    "    comm_total = sy.comm_total\n",
    "    comm.append(comm_total)\n",
    "\n",
    "    print(\"matrix dimension = {} : Total communication is {:.5f} MB, and total time is {:.5f} s in secure multiplication.\"\n",
    "            .format(row, ((comm_total) / 2**20), (time.time() - time_start)))           # 10 ** 6 in yp_workplace/ariann/ariann/preprocess.py line 237 instead of 2 ** 20\n",
    "    del sy.comm_total"
   ]
  },
  {
   "cell_type": "code",
   "execution_count": 4,
   "metadata": {},
   "outputs": [
    {
     "data": {
      "text/plain": [
       "([48143, 171019, 662547, 2628645, 10492957, 41950245],\n",
       " [32, 64, 128, 256, 512, 1024])"
      ]
     },
     "execution_count": 4,
     "metadata": {},
     "output_type": "execute_result"
    }
   ],
   "source": [
    "comm, matrix_dim"
   ]
  },
  {
   "cell_type": "code",
   "execution_count": 5,
   "metadata": {},
   "outputs": [
    {
     "data": {
      "image/png": "[encoded data removed]",
      "text/plain": [
       "<Figure size 432x288 with 1 Axes>"
      ]
     },
     "metadata": {
      "needs_background": "light"
     },
     "output_type": "display_data"
    }
   ],
   "source": [
    "plt.plot(np.array(matrix_dim), np.array(comm))\n",
    "plt.show()"
   ]
  }
 ],
 "metadata": {
  "kernelspec": {
   "display_name": "base",
   "language": "python",
   "name": "python3"
  },
  "language_info": {
   "codemirror_mode": {
    "name": "ipython",
    "version": 3
   },
   "file_extension": ".py",
   "mimetype": "text/x-python",
   "name": "python",
   "nbconvert_exporter": "python",
   "pygments_lexer": "ipython3",
   "version": "3.7.0 (default, Oct  9 2018, 10:31:47) \n[GCC 7.3.0]"
  },
  "orig_nbformat": 4,
  "vscode": {
   "interpreter": {
    "hash": "4c49fdcc39f9ffebd2a7e631db0f303cc4a52534a0fd828d3c1386cf51ba766a"
   }
  }
 },
 "nbformat": 4,
 "nbformat_minor": 2
}
