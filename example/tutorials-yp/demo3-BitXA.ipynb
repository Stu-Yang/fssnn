{
 "cells": [
  {
   "attachments": {},
   "cell_type": "markdown",
   "metadata": {},
   "source": [
    "### BitXA in FssNN"
   ]
  },
  {
   "cell_type": "code",
   "execution_count": 1,
   "metadata": {},
   "outputs": [],
   "source": [
    "import torch\n",
    "import syft as sy\n",
    "\n",
    "# 创建工作机\n",
    "hook = sy.TorchHook(torch)\n",
    "bob = sy.VirtualWorker(hook, id=\"bob\")\n",
    "alice = sy.VirtualWorker(hook, id=\"alice\")\n",
    "crypto_provider = sy.VirtualWorker(hook, id=\"crypto_provider\")\n",
    "\n",
    "# 一些参数\n",
    "n = 32      # bit length\n",
    "N = 32     # matrix dim"
   ]
  },
  {
   "cell_type": "code",
   "execution_count": 2,
   "metadata": {},
   "outputs": [],
   "source": [
    "# 矩阵逐元素异或\n",
    "def MatXor(X, Y):\n",
    "    return X + Y - 2 * torch.mul(X, Y)\n",
    "\n",
    "# 算术秘密分享\n",
    "def Additive_A(X, workers):\n",
    "    P0, P1 = workers[0], workers[1]\n",
    "    row, col = X.shape[0], X.shape[1]\n",
    "\n",
    "    R = torch.randint(0, 2**n, (row, col))  # 随机矩阵\n",
    "    X0, X1 = X-R, R\n",
    "    X0_ptr = X0.send(P0)\n",
    "    X1_ptr = X1.send(P1)\n",
    "\n",
    "    return X0_ptr, X1_ptr\n",
    "\n",
    "# 布尔秘密分享\n",
    "def Additive_B(X, workers):\n",
    "    P0, P1 = workers[0], workers[1]\n",
    "    row, col = X.shape[0], X.shape[1]\n",
    "\n",
    "    R = torch.randint(0, 2, (row, col)).type(torch.ByteTensor)  # 随机矩阵\n",
    "    X0, X1 = MatXor(X, R), R\n",
    "    X0_ptr = X0.send(P0)\n",
    "    X1_ptr = X1.send(P1)\n",
    "\n",
    "    return X0_ptr, X1_ptr\n",
    "\n",
    "# 乘法三元组\n",
    "def Multiplication_triples(X, Y, workers):\n",
    "    row_x, col_x = X.shape[0], X.shape[1]\n",
    "    row_y, col_y = Y.shape[0], Y.shape[1]\n",
    "\n",
    "    Delta_X = torch.randint(0, 2**n, (row_x, col_x))  # 随机矩阵\n",
    "    Delta_Y_ = torch.randint(0, 2, (row_y, col_y))\n",
    "    Delta_Z = torch.matmul(Delta_X, Delta_Y_)\n",
    "    Delta_Y = Delta_Y_.type(torch.ByteTensor)\n",
    "\n",
    "    Delta_X0_ptr, Delta_X1_ptr = Additive_A(Delta_X, workers)\n",
    "    Delta_Y0_ptr, Delta_Y1_ptr = Additive_B(Delta_Y, workers)\n",
    "    Delta_Z0_ptr, Delta_Z1_ptr = Additive_A(Delta_Z, workers)\n",
    "\n",
    "    Delta_0_ptr = (Delta_X0_ptr, Delta_Y0_ptr, Delta_Z0_ptr)\n",
    "    Delta_1_ptr = (Delta_X1_ptr, Delta_Y1_ptr, Delta_Z1_ptr)\n",
    "\n",
    "    return Delta_0_ptr, Delta_1_ptr\n",
    "\n",
    "\n",
    "def BitXA(X0_, Y0_, Z0_, delta_X0_, delta_Y0_, delta_Z0_,\n",
    "          X1_, Y1_, Z1_, delta_X1_, delta_Y1_, delta_Z1_):\n",
    "\n",
    "    assert X0_.shape[0] == Y0_.shape[0]\n",
    "    assert X0_.shape[1] == Y0_.shape[1]\n",
    "\n",
    "    row, col = X0_.shape[0], X0_.shape[1]\n",
    "    # 通信交互，以打开x + delta_x, y, delta_y\n",
    "    Delta_X0_, Delta_Y0_ = X0_ + delta_X0_, MatXor(Y0_, delta_Y0_)\n",
    "    Delta_X0_copy, Delta_Y0_copy = Delta_Y0_.copy(), Delta_Y0_.copy()\n",
    "    Delta_X0_bob, Delta_Y0_bob = Delta_X0_copy.move(bob), Delta_Y0_copy.move(bob)\n",
    "\n",
    "    Delta_X1_, Delta_Y1_ = X1_ + delta_X1_, MatXor(Y1_, delta_Y1_)\n",
    "    Delta_X1_copy, Delta_Y1_copy = Delta_X1_.copy(), Delta_Y1_.copy()\n",
    "    Delta_X1_alice, Delta_Y1_alice = Delta_X1_copy.move(alice), Delta_Y1_copy.move(alice)\n",
    "\n",
    "    Delta_X_alice, Delta_Y_alice = Delta_X0_ + Delta_X1_alice, MatXor(Delta_Y0_, Delta_Y1_alice)\n",
    "    Delta_X_bob, Delta_Y_bob = Delta_X1_ + Delta_X0_bob, MatXor(Delta_Y1_, Delta_Y0_bob)\n",
    "\n",
    "    for i in range(row):\n",
    "        for j in range(col):\n",
    "            z0_ = (Delta_Y0_[i,j] * Delta_X0_[i,j] - 2 * Delta_Y_alice[i,j] * Delta_X_alice[i,j] * Delta_Y0_[i,j]  \n",
    "            - Delta_Y_alice[i,j] * Delta_X0_[i,j] - delta_Z0_[i,j] + 2 * Delta_Y_alice[i,j] * delta_Z0_[i,j])\n",
    "            Z0_[i,j] = z0_\n",
    "\n",
    "            z1_ = (Delta_Y_bob[i,j] * Delta_X_bob[i,j]\n",
    "            + Delta_Y1_[i,j] * Delta_X_bob[i,j] - 2 * Delta_Y_bob[i,j] * Delta_X_bob[i,j] * Delta_Y1_[i,j]\n",
    "            - Delta_Y_bob[i,j] * Delta_X1_[i,j] - delta_Z1_[i,j] + 2 * Delta_Y_bob[i,j] * delta_Z1_[i,j])\n",
    "            Z1_[i,j] = z1_\n",
    "\n",
    "\n",
    "    return Z0_, Z1_"
   ]
  },
  {
   "cell_type": "code",
   "execution_count": 3,
   "metadata": {},
   "outputs": [],
   "source": [
    "X = torch.randint(0, 2**n, (N, N))\n",
    "Y_ = torch.randint(0, 2, (N, N))\n",
    "Y = Y_.type(torch.ByteTensor)\n",
    "Z = torch.matmul(X, Y_)\n",
    "\n",
    "Z_ = torch.zeros(N,N)\n",
    "Z0_, Z1_ = Additive_A(Z_, (alice, bob))\n",
    "\n"
   ]
  },
  {
   "cell_type": "code",
   "execution_count": 4,
   "metadata": {},
   "outputs": [],
   "source": [
    "# - - - - - Offline Phase - - - - - #\n",
    "X0_, X1_ = Additive_A(X, (alice, bob))\n",
    "Y0_, Y1_ = Additive_B(Y, (alice, bob))\n",
    "\n",
    "Delta_0_, Delta_1_ = Multiplication_triples(X, Y, (alice, bob))\n",
    "(Delta_X0_, Delta_Y0_, Delta_Z0_) = Delta_0_[0], Delta_0_[1], Delta_0_[2]\n",
    "(Delta_X1_, Delta_Y1_, Delta_Z1_) = Delta_1_[0], Delta_1_[1], Delta_1_[2]"
   ]
  },
  {
   "cell_type": "code",
   "execution_count": 5,
   "metadata": {},
   "outputs": [
    {
     "name": "stdout",
     "output_type": "stream",
     "text": [
      "(Wrapper)>[PointerTensor | me:76378416289 -> alice:95623334233] (Wrapper)>[PointerTensor | me:78622217630 -> alice:39925858741] (Wrapper)>[PointerTensor | me:64554681145 -> alice:17476023672] (Wrapper)>[PointerTensor | me:63707735934 -> alice:6234863019] (Wrapper)>[PointerTensor | me:16745401262 -> alice:70799130306]\n"
     ]
    }
   ],
   "source": [
    "print(X0_, Y0_, Delta_X0_, Delta_Y0_, Delta_Z0_)"
   ]
  },
  {
   "cell_type": "code",
   "execution_count": 6,
   "metadata": {},
   "outputs": [
    {
     "name": "stdout",
     "output_type": "stream",
     "text": [
      "(Wrapper)>[PointerTensor | me:44529717160 -> bob:20300456376] (Wrapper)>[PointerTensor | me:16479365694 -> bob:89523601817] (Wrapper)>[PointerTensor | me:78433679672 -> bob:99846187068] (Wrapper)>[PointerTensor | me:59316548670 -> bob:18835129261] (Wrapper)>[PointerTensor | me:23533722833 -> bob:55072075077]\n"
     ]
    }
   ],
   "source": [
    "print(X1_, Y1_, Delta_X1_, Delta_Y1_, Delta_Z1_)"
   ]
  },
  {
   "cell_type": "code",
   "execution_count": 7,
   "metadata": {},
   "outputs": [],
   "source": [
    "# - - - - - Online Phase - - - - - #\n",
    "\n",
    "sy.comm_total = 0           # commuication"
   ]
  },
  {
   "cell_type": "code",
   "execution_count": 8,
   "metadata": {},
   "outputs": [],
   "source": [
    "Delta_X0_temp = X0_ + Delta_X0_\n",
    "Delta_Y0_temp = MatXor(Y0_, Delta_Y0_)"
   ]
  },
  {
   "cell_type": "code",
   "execution_count": 11,
   "metadata": {},
   "outputs": [
    {
     "data": {
      "text/plain": [
       "0.000553131103515625"
      ]
     },
     "execution_count": 11,
     "metadata": {},
     "output_type": "execute_result"
    }
   ],
   "source": [
    "sy.comm_total/(2**20)"
   ]
  },
  {
   "cell_type": "code",
   "execution_count": 12,
   "metadata": {},
   "outputs": [],
   "source": [
    "Delta_X0_copy, Delta_Y0_copy = Delta_Y0_.copy(), Delta_Y0_.copy()"
   ]
  },
  {
   "cell_type": "code",
   "execution_count": 13,
   "metadata": {},
   "outputs": [
    {
     "data": {
      "text/plain": [
       "0.000701904296875"
      ]
     },
     "execution_count": 13,
     "metadata": {},
     "output_type": "execute_result"
    }
   ],
   "source": [
    "sy.comm_total/(2**20)"
   ]
  },
  {
   "cell_type": "code",
   "execution_count": 14,
   "metadata": {},
   "outputs": [],
   "source": [
    "Delta_X0_bob, Delta_Y0_bob = Delta_X0_copy.move(bob), Delta_Y0_copy.move(bob)"
   ]
  },
  {
   "cell_type": "code",
   "execution_count": 15,
   "metadata": {},
   "outputs": [
    {
     "data": {
      "text/plain": [
       "0.0009288787841796875"
      ]
     },
     "execution_count": 15,
     "metadata": {},
     "output_type": "execute_result"
    }
   ],
   "source": [
    "sy.comm_total/(2**20)"
   ]
  },
  {
   "cell_type": "code",
   "execution_count": 16,
   "metadata": {},
   "outputs": [],
   "source": [
    "Delta_X1_, Delta_Y1_ = X1_ + Delta_X1_, MatXor(Y1_, Delta_Y1_)\n",
    "Delta_X1_copy, Delta_Y1_copy = Delta_X1_.copy(), Delta_Y1_.copy()\n",
    "Delta_X1_alice, Delta_Y1_alice = Delta_X1_copy.move(alice), Delta_Y1_copy.move(alice)"
   ]
  },
  {
   "cell_type": "code",
   "execution_count": 17,
   "metadata": {},
   "outputs": [
    {
     "data": {
      "text/plain": [
       "0.010408401489257812"
      ]
     },
     "execution_count": 17,
     "metadata": {},
     "output_type": "execute_result"
    }
   ],
   "source": [
    "sy.comm_total/(2**20)"
   ]
  },
  {
   "cell_type": "code",
   "execution_count": 18,
   "metadata": {},
   "outputs": [],
   "source": [
    "Delta_X_alice, Delta_Y_alice = Delta_X0_ + Delta_X1_alice, MatXor(Delta_Y0_, Delta_Y1_alice)\n",
    "Delta_X_bob, Delta_Y_bob = Delta_X1_ + Delta_X0_bob, MatXor(Delta_Y1_, Delta_Y0_bob)"
   ]
  },
  {
   "cell_type": "code",
   "execution_count": 19,
   "metadata": {},
   "outputs": [
    {
     "data": {
      "text/plain": [
       "0.010938644409179688"
      ]
     },
     "execution_count": 19,
     "metadata": {},
     "output_type": "execute_result"
    }
   ],
   "source": [
    "sy.comm_total/(2**20)"
   ]
  }
 ],
 "metadata": {
  "kernelspec": {
   "display_name": "pysyft",
   "language": "python",
   "name": "python3"
  },
  "language_info": {
   "codemirror_mode": {
    "name": "ipython",
    "version": 3
   },
   "file_extension": ".py",
   "mimetype": "text/x-python",
   "name": "python",
   "nbconvert_exporter": "python",
   "pygments_lexer": "ipython3",
   "version": "3.7.15"
  },
  "orig_nbformat": 4,
  "vscode": {
   "interpreter": {
    "hash": "3ab6f450651f3ceb6ad9b3865971c92af673117246914f80384818105079b3db"
   }
  }
 },
 "nbformat": 4,
 "nbformat_minor": 2
}
