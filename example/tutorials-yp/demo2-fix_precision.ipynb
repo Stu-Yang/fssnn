{
 "cells": [
  {
   "attachments": {},
   "cell_type": "markdown",
   "metadata": {},
   "source": [
    "### Fix-Point Arithmetric\n"
   ]
  },
  {
   "cell_type": "code",
   "execution_count": 1,
   "metadata": {},
   "outputs": [],
   "source": [
    "import torch\n",
    "import syft as sy"
   ]
  },
  {
   "cell_type": "code",
   "execution_count": 2,
   "metadata": {},
   "outputs": [],
   "source": [
    "# 创建工作机\n",
    "hook = sy.TorchHook(torch)\n",
    "bob = sy.VirtualWorker(hook, id=\"bob\")\n",
    "alice = sy.VirtualWorker(hook, id=\"alice\")\n",
    "crypto_provider = sy.VirtualWorker(hook, id=\"crypto_provider\")"
   ]
  },
  {
   "cell_type": "code",
   "execution_count": 3,
   "metadata": {},
   "outputs": [
    {
     "name": "stdout",
     "output_type": "stream",
     "text": [
      "tensor([[0.0315, 0.9668, 0.2177, 0.5811],\n",
      "        [0.9274, 0.1507, 0.0476, 0.5183],\n",
      "        [0.9848, 0.4558, 0.4875, 0.0416]]) \n",
      " tensor([[0.7034, 0.0083, 0.1034, 0.2801, 0.2606],\n",
      "        [0.4430, 0.0607, 0.5377, 0.5097, 0.4376],\n",
      "        [0.8103, 0.3309, 0.5820, 0.4222, 0.9640],\n",
      "        [0.6722, 0.6349, 0.3228, 0.3550, 0.7398]])\n"
     ]
    }
   ],
   "source": [
    "# 数据\n",
    "A = torch.rand(3, 4)\n",
    "B = torch.rand(4, 5)\n",
    "print(A, '\\n', B)"
   ]
  },
  {
   "cell_type": "code",
   "execution_count": 5,
   "metadata": {},
   "outputs": [
    {
     "name": "stdout",
     "output_type": "stream",
     "text": [
      "(Wrapper)>FixedPrecisionTensor>[AdditiveSharingTensor]\n",
      "\t-> [PointerTensor | me:16413372396 -> bob:39215103197]\n",
      "\t-> [PointerTensor | me:44131232347 -> alice:46363112769]\n",
      "\t*crypto provider: crypto_provider* \n",
      " (Wrapper)>FixedPrecisionTensor>[AdditiveSharingTensor]\n",
      "\t-> [PointerTensor | me:78935170261 -> bob:94796737335]\n",
      "\t-> [PointerTensor | me:25005339754 -> alice:48700467617]\n",
      "\t*crypto provider: crypto_provider*\n"
     ]
    }
   ],
   "source": [
    "# 将数据采用固定精度表示（3位小数），并分发给alice和bob\n",
    "# fix_precision()方法定义在/root/AriaNN/PySyft/syft/frameworks/torch/tensors/interpreters/native.py line 971\n",
    "A_ = A.fix_precision(precision_fractional=4).share(bob, alice, crypto_provider=crypto_provider)\n",
    "B_ = B.fix_precision(precision_fractional=4).share(bob, alice, crypto_provider=crypto_provider)\n",
    "print(A_, \"\\n\", B_)"
   ]
  },
  {
   "cell_type": "code",
   "execution_count": 6,
   "metadata": {},
   "outputs": [
    {
     "data": {
      "text/plain": [
       "(Wrapper)>FixedPrecisionTensor>[AdditiveSharingTensor]\n",
       "\t-> [PointerTensor | me:28956298282 -> bob:51118704681]\n",
       "\t-> [PointerTensor | me:87156791146 -> alice:92208606253]\n",
       "\t*crypto provider: crypto_provider*"
      ]
     },
     "execution_count": 6,
     "metadata": {},
     "output_type": "execute_result"
    }
   ],
   "source": [
    "C_ = A_.matmul(B_)\n",
    "C_"
   ]
  },
  {
   "cell_type": "code",
   "execution_count": 7,
   "metadata": {},
   "outputs": [
    {
     "data": {
      "text/plain": [
       "tensor([[1.0172, 0.4997, 0.8372, 0.7996, 1.0708],\n",
       "        [1.1059, 0.3615, 0.3718, 0.5405, 0.7367],\n",
       "        [1.3175, 0.2236, 0.6441, 0.7286, 0.9568]])"
      ]
     },
     "execution_count": 7,
     "metadata": {},
     "output_type": "execute_result"
    }
   ],
   "source": [
    "C = C_.get().float_precision()\n",
    "C "
   ]
  },
  {
   "cell_type": "code",
   "execution_count": 8,
   "metadata": {},
   "outputs": [
    {
     "name": "stdout",
     "output_type": "stream",
     "text": [
      "tensor([[1.0174, 0.4999, 0.8374, 0.7997, 1.0710],\n",
      "        [1.1060, 0.3616, 0.3719, 0.5407, 0.7369],\n",
      "        [1.3177, 0.2236, 0.6442, 0.7288, 0.9569]])\n"
     ]
    }
   ],
   "source": [
    "print(torch.mm(A, B))"
   ]
  }
 ],
 "metadata": {
  "kernelspec": {
   "display_name": "pysyft",
   "language": "python",
   "name": "python3"
  },
  "language_info": {
   "codemirror_mode": {
    "name": "ipython",
    "version": 3
   },
   "file_extension": ".py",
   "mimetype": "text/x-python",
   "name": "python",
   "nbconvert_exporter": "python",
   "pygments_lexer": "ipython3",
   "version": "3.7.15"
  },
  "orig_nbformat": 4,
  "vscode": {
   "interpreter": {
    "hash": "3ab6f450651f3ceb6ad9b3865971c92af673117246914f80384818105079b3db"
   }
  }
 },
 "nbformat": 4,
 "nbformat_minor": 2
}
