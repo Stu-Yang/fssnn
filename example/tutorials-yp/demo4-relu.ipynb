{
 "cells": [
  {
   "cell_type": "code",
   "execution_count": 1,
   "metadata": {},
   "outputs": [],
   "source": [
    "import torch\n",
    "import torch.nn.functional as F\n",
    "import syft as sy\n",
    "import time\n"
   ]
  },
  {
   "cell_type": "code",
   "execution_count": 2,
   "metadata": {},
   "outputs": [],
   "source": [
    "# 创建工作机\n",
    "hook = sy.TorchHook(torch)\n",
    "bob = sy.VirtualWorker(hook, id=\"bob\")\n",
    "alice = sy.VirtualWorker(hook, id=\"alice\")\n",
    "crypto_provider = sy.VirtualWorker(hook, id=\"crypto_provider\")"
   ]
  },
  {
   "cell_type": "code",
   "execution_count": 3,
   "metadata": {},
   "outputs": [
    {
     "name": "stdout",
     "output_type": "stream",
     "text": [
      "relu in snn......\n",
      "N = 16: Total time is 486.521ms, total Communication is 0.474MB.\n",
      "\n"
     ]
    }
   ],
   "source": [
    "n = 16\n",
    "X = torch.rand(n, n)\n",
    "protocol = \"snn\"\n",
    "X_ = X.fix_precision(precision_fractional = 4).share(bob, alice, crypto_provider=crypto_provider, protocol=protocol)\n",
    "\n",
    "sy.comm_total = 0\n",
    "start_time = time.time()\n",
    "\n",
    "Y_ = F.relu(X_)\n",
    "Y = Y_.get()\n",
    "\n",
    "print('N = {}: Total time is {:.3f}ms, total Communication is {:.3f}MB.\\n'.format(n, (time.time()-start_time)*1000, sy.comm_total / (2**20)))\n"
   ]
  },
  {
   "cell_type": "code",
   "execution_count": 4,
   "metadata": {},
   "outputs": [
    {
     "name": "stdout",
     "output_type": "stream",
     "text": [
      "relu in fss......\n",
      "N = 16: Total time is 15.986ms, total Communication is 0.245MB.\n",
      "\n"
     ]
    }
   ],
   "source": [
    "n = 16\n",
    "X = torch.rand(n, n)\n",
    "protocol = \"fss\"\n",
    "X_ = X.fix_precision(precision_fractional = 4).share(bob, alice, crypto_provider=crypto_provider, protocol=protocol)\n",
    "\n",
    "sy.comm_total = 0\n",
    "start_time = time.time()\n",
    "\n",
    "Y_ = F.relu(X_)\n",
    "Y = Y_.get()\n",
    "\n",
    "print('N = {}: Total time is {:.3f}ms, total Communication is {:.3f}MB.\\n'.format(n, (time.time()-start_time)*1000, sy.comm_total / (2**20)))\n"
   ]
  },
  {
   "cell_type": "code",
   "execution_count": null,
   "metadata": {},
   "outputs": [],
   "source": []
  }
 ],
 "metadata": {
  "kernelspec": {
   "display_name": "pysyft",
   "language": "python",
   "name": "python3"
  },
  "language_info": {
   "codemirror_mode": {
    "name": "ipython",
    "version": 3
   },
   "file_extension": ".py",
   "mimetype": "text/x-python",
   "name": "python",
   "nbconvert_exporter": "python",
   "pygments_lexer": "ipython3",
   "version": "3.7.15"
  },
  "orig_nbformat": 4,
  "vscode": {
   "interpreter": {
    "hash": "3ab6f450651f3ceb6ad9b3865971c92af673117246914f80384818105079b3db"
   }
  }
 },
 "nbformat": 4,
 "nbformat_minor": 2
}
