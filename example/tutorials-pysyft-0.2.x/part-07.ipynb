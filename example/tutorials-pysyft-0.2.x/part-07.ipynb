{
 "cells": [
  {
   "cell_type": "code",
   "execution_count": 1,
   "metadata": {},
   "outputs": [
    {
     "name": "stdout",
     "output_type": "stream",
     "text": [
      "Setting up Sandbox...\n",
      "Done!\n"
     ]
    }
   ],
   "source": [
    "import torch as th\n",
    "import syft as sy\n",
    "sy.create_sandbox(globals(), verbose=False)"
   ]
  },
  {
   "cell_type": "code",
   "execution_count": 2,
   "metadata": {},
   "outputs": [
    {
     "data": {
      "text/plain": [
       "[<VirtualWorker id:bob #objects:14>,\n",
       " <VirtualWorker id:theo #objects:14>,\n",
       " <VirtualWorker id:jason #objects:14>,\n",
       " <VirtualWorker id:alice #objects:14>,\n",
       " <VirtualWorker id:andy #objects:14>,\n",
       " <VirtualWorker id:jon #objects:14>]"
      ]
     },
     "execution_count": 2,
     "metadata": {},
     "output_type": "execute_result"
    }
   ],
   "source": [
    "workers"
   ]
  },
  {
   "cell_type": "code",
   "execution_count": 3,
   "metadata": {},
   "outputs": [],
   "source": [
    "boston_data = grid.search(\"#boston\", \"#data\")\n",
    "boston_target = grid.search(\"#boston\", \"#target\")"
   ]
  },
  {
   "cell_type": "code",
   "execution_count": 4,
   "metadata": {},
   "outputs": [],
   "source": [
    "n_features = boston_data['alice'][0].shape[1]\n",
    "n_targets = 1\n",
    "\n",
    "model = th.nn.Linear(n_features, n_targets)"
   ]
  },
  {
   "cell_type": "code",
   "execution_count": 5,
   "metadata": {},
   "outputs": [
    {
     "name": "stdout",
     "output_type": "stream",
     "text": [
      "['bob', 'theo', 'jason', 'alice', 'andy', 'jon']\n"
     ]
    }
   ],
   "source": [
    "# Cast the result in BaseDatasets\n",
    "datasets = []\n",
    "for worker in boston_data.keys():\n",
    "    dataset = sy.BaseDataset(boston_data[worker][0], boston_target[worker][0])\n",
    "    datasets.append(dataset)\n",
    "\n",
    "# Build the FederatedDataset object\n",
    "dataset = sy.FederatedDataset(datasets)\n",
    "print(dataset.workers)\n",
    "optimizers = {}\n",
    "for worker in dataset.workers:\n",
    "    optimizers[worker] = th.optim.Adam(params=model.parameters(),lr=1e-2)"
   ]
  },
  {
   "cell_type": "code",
   "execution_count": 6,
   "metadata": {},
   "outputs": [],
   "source": [
    "train_loader = sy.FederatedDataLoader(dataset, batch_size=32, shuffle=False, drop_last=False)"
   ]
  },
  {
   "cell_type": "code",
   "execution_count": 8,
   "metadata": {},
   "outputs": [
    {
     "name": "stdout",
     "output_type": "stream",
     "text": [
      "Train Epoch: 1 [0/16 (0%)]\tBatch loss: 2367.532715\n",
      "Train Epoch: 1 [8/16 (50%)]\tBatch loss: 86.179184\n",
      "Train Epoch: 1 [16/16 (100%)]\tBatch loss: 189.112701\n",
      "Total loss 6982.528579711914\n",
      "Train Epoch: 2 [0/16 (0%)]\tBatch loss: 132.243729\n",
      "Train Epoch: 2 [8/16 (50%)]\tBatch loss: 82.996765\n",
      "Train Epoch: 2 [16/16 (100%)]\tBatch loss: 122.085678\n",
      "Total loss 3281.2114601135254\n",
      "Train Epoch: 3 [0/16 (0%)]\tBatch loss: 54.023983\n",
      "Train Epoch: 3 [8/16 (50%)]\tBatch loss: 96.907722\n",
      "Train Epoch: 3 [16/16 (100%)]\tBatch loss: 77.894753\n",
      "Total loss 1803.068790435791\n",
      "Train Epoch: 4 [0/16 (0%)]\tBatch loss: 61.169136\n",
      "Train Epoch: 4 [8/16 (50%)]\tBatch loss: 103.411514\n",
      "Train Epoch: 4 [16/16 (100%)]\tBatch loss: 27.831673\n",
      "Total loss 1224.775598526001\n",
      "Train Epoch: 5 [0/16 (0%)]\tBatch loss: 55.768658\n",
      "Train Epoch: 5 [8/16 (50%)]\tBatch loss: 67.539917\n",
      "Train Epoch: 5 [16/16 (100%)]\tBatch loss: 27.874121\n",
      "Total loss 1138.0568761825562\n",
      "Train Epoch: 6 [0/16 (0%)]\tBatch loss: 51.960052\n",
      "Train Epoch: 6 [8/16 (50%)]\tBatch loss: 60.365345\n",
      "Train Epoch: 6 [16/16 (100%)]\tBatch loss: 38.587200\n",
      "Total loss 1226.6311588287354\n",
      "Train Epoch: 7 [0/16 (0%)]\tBatch loss: 50.677444\n",
      "Train Epoch: 7 [8/16 (50%)]\tBatch loss: 65.959770\n",
      "Train Epoch: 7 [16/16 (100%)]\tBatch loss: 53.461819\n",
      "Total loss 1238.1795749664307\n",
      "Train Epoch: 8 [0/16 (0%)]\tBatch loss: 44.927059\n",
      "Train Epoch: 8 [8/16 (50%)]\tBatch loss: 67.211143\n",
      "Train Epoch: 8 [16/16 (100%)]\tBatch loss: 55.599670\n",
      "Total loss 1183.9590730667114\n",
      "Train Epoch: 9 [0/16 (0%)]\tBatch loss: 41.452858\n",
      "Train Epoch: 9 [8/16 (50%)]\tBatch loss: 63.089802\n",
      "Train Epoch: 9 [16/16 (100%)]\tBatch loss: 38.888821\n",
      "Total loss 1119.072958946228\n",
      "Train Epoch: 10 [0/16 (0%)]\tBatch loss: 43.941025\n",
      "Train Epoch: 10 [8/16 (50%)]\tBatch loss: 57.916058\n",
      "Train Epoch: 10 [16/16 (100%)]\tBatch loss: 28.135458\n",
      "Total loss 1084.814712524414\n"
     ]
    }
   ],
   "source": [
    "epochs = 10\n",
    "for epoch in range(1, epochs + 1):\n",
    "    loss_accum = 0\n",
    "    for batch_idx, (data, target) in enumerate(train_loader):       # 使用数据加载器\n",
    "        model.send(data.location)\n",
    "        \n",
    "        optimizer = optimizers[data.location.id]\n",
    "        optimizer.zero_grad()\n",
    "        pred = model(data)\n",
    "        loss = ((pred.view(-1) - target)**2).mean()\n",
    "        loss.backward()\n",
    "        optimizer.step()\n",
    "        \n",
    "        model.get()\n",
    "        loss = loss.get()\n",
    "        \n",
    "        loss_accum += float(loss)\n",
    "        \n",
    "        if batch_idx % 8 == 0:\n",
    "            print('Train Epoch: {} [{}/{} ({:.0f}%)]\\tBatch loss: {:.6f}'.format(\n",
    "                epoch, batch_idx, len(train_loader),\n",
    "                       100. * batch_idx / len(train_loader), loss.item()))            \n",
    "            \n",
    "    print('Total loss', loss_accum)"
   ]
  },
  {
   "cell_type": "code",
   "execution_count": null,
   "metadata": {},
   "outputs": [],
   "source": []
  }
 ],
 "metadata": {
  "kernelspec": {
   "display_name": "Python 3.7.0 ('base': conda)",
   "language": "python",
   "name": "python3"
  },
  "language_info": {
   "codemirror_mode": {
    "name": "ipython",
    "version": 3
   },
   "file_extension": ".py",
   "mimetype": "text/x-python",
   "name": "python",
   "nbconvert_exporter": "python",
   "pygments_lexer": "ipython3",
   "version": "3.7.0"
  },
  "orig_nbformat": 4,
  "vscode": {
   "interpreter": {
    "hash": "4c49fdcc39f9ffebd2a7e631db0f303cc4a52534a0fd828d3c1386cf51ba766a"
   }
  }
 },
 "nbformat": 4,
 "nbformat_minor": 2
}
