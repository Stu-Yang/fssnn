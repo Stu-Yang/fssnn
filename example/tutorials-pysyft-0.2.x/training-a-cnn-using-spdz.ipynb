{
 "cells": [
  {
   "cell_type": "code",
   "execution_count": null,
   "metadata": {},
   "outputs": [],
   "source": []
  }
 ],
 "metadata": {
  "kernelspec": {
   "display_name": "Python 3.7.0 ('base': conda)",
   "language": "python",
   "name": "python3"
  },
  "language_info": {
   "name": "python",
   "version": "3.7.0"
  },
  "orig_nbformat": 4,
  "vscode": {
   "interpreter": {
    "hash": "4c49fdcc39f9ffebd2a7e631db0f303cc4a52534a0fd828d3c1386cf51ba766a"
   }
  }
 },
 "nbformat": 4,
 "nbformat_minor": 2
}
