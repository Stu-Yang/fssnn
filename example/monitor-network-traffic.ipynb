{
 "cells": [
  {
   "cell_type": "code",
   "execution_count": 1,
   "metadata": {},
   "outputs": [],
   "source": [
    "from syft.generic.metrics import NetworkMonitor"
   ]
  },
  {
   "cell_type": "code",
   "execution_count": 2,
   "metadata": {},
   "outputs": [
    {
     "ename": "TSharkNotFoundException",
     "evalue": "TShark not found. Try adding its location to the configuration file. Searched these paths: ['C:\\\\Program Files\\\\Wireshark\\\\tshark.exe', '/root/gsq_workplace/anconda3/bin/tshark', '/root/gsq_workplace/anconda3/condabin/tshark', '/root/.vscode-server/bin/d045a5eda657f4d7b676dedbfa7aab8207f8a075/bin/remote-cli/tshark', '/root/gsq_wordplace/anaconda3/bin/tshark', '/root/gsq_wordplace/anaconda3/bin/tshark', '/usr/local/sbin/tshark', '/usr/local/bin/tshark', '/usr/sbin/tshark', '/usr/bin/tshark', '/sbin/tshark', '/bin/tshark', '/snap/bin/tshark']",
     "output_type": "error",
     "traceback": [
      "\u001b[0;31m---------------------------------------------------------------------------\u001b[0m",
      "\u001b[0;31mTSharkNotFoundException\u001b[0m                   Traceback (most recent call last)",
      "\u001b[0;32m<ipython-input-2-596981954917>\u001b[0m in \u001b[0;36m<module>\u001b[0;34m()\u001b[0m\n\u001b[0;32m----> 1\u001b[0;31m \u001b[0mcapture\u001b[0m\u001b[0;34m,\u001b[0m \u001b[0mlength\u001b[0m \u001b[0;34m=\u001b[0m \u001b[0mNetworkMonitor\u001b[0m\u001b[0;34m.\u001b[0m\u001b[0mget_packets\u001b[0m\u001b[0;34m(\u001b[0m\u001b[0minterface\u001b[0m\u001b[0;34m=\u001b[0m\u001b[0;34m'en0'\u001b[0m\u001b[0;34m,\u001b[0m \u001b[0mtimeout\u001b[0m\u001b[0;34m=\u001b[0m\u001b[0;36m60\u001b[0m\u001b[0;34m,\u001b[0m \u001b[0mdisplay_filter\u001b[0m \u001b[0;34m=\u001b[0m \u001b[0;34m'tcp.port == 8777'\u001b[0m\u001b[0;34m)\u001b[0m\u001b[0;34m\u001b[0m\u001b[0m\n\u001b[0m",
      "\u001b[0;32m~/gsq_workplace/arinn/PySyft/syft/generic/metrics.py\u001b[0m in \u001b[0;36mget_packets\u001b[0;34m(timeout, interface, bpf_filter, display_filter, tshark_path, output_file)\u001b[0m\n\u001b[1;32m     52\u001b[0m                 \u001b[0mbpf_filter\u001b[0m\u001b[0;34m=\u001b[0m\u001b[0mbpf_filter\u001b[0m\u001b[0;34m,\u001b[0m\u001b[0;34m\u001b[0m\u001b[0m\n\u001b[1;32m     53\u001b[0m                 \u001b[0mtshark_path\u001b[0m\u001b[0;34m=\u001b[0m\u001b[0mtshark_path\u001b[0m\u001b[0;34m,\u001b[0m\u001b[0;34m\u001b[0m\u001b[0m\n\u001b[0;32m---> 54\u001b[0;31m                 \u001b[0moutput_file\u001b[0m\u001b[0;34m=\u001b[0m\u001b[0moutput_file\u001b[0m\u001b[0;34m,\u001b[0m\u001b[0;34m\u001b[0m\u001b[0m\n\u001b[0m\u001b[1;32m     55\u001b[0m             )\n\u001b[1;32m     56\u001b[0m             \u001b[0mcapture\u001b[0m\u001b[0;34m.\u001b[0m\u001b[0msniff\u001b[0m\u001b[0;34m(\u001b[0m\u001b[0mtimeout\u001b[0m\u001b[0;34m=\u001b[0m\u001b[0mtimeout\u001b[0m\u001b[0;34m)\u001b[0m\u001b[0;34m\u001b[0m\u001b[0m\n",
      "\u001b[0;32m~/gsq_workplace/anconda3/lib/python3.7/site-packages/pyshark/capture/live_capture.py\u001b[0m in \u001b[0;36m__init__\u001b[0;34m(self, interface, bpf_filter, display_filter, only_summaries, decryption_key, encryption_type, output_file, decode_as, disable_protocol, tshark_path, override_prefs, capture_filter, monitor_mode, use_json, use_ek, include_raw, eventloop, custom_parameters, debug)\u001b[0m\n\u001b[1;32m     56\u001b[0m         \u001b[0mself\u001b[0m\u001b[0;34m.\u001b[0m\u001b[0mmonitor_mode\u001b[0m \u001b[0;34m=\u001b[0m \u001b[0mmonitor_mode\u001b[0m\u001b[0;34m\u001b[0m\u001b[0m\n\u001b[1;32m     57\u001b[0m \u001b[0;34m\u001b[0m\u001b[0m\n\u001b[0;32m---> 58\u001b[0;31m         \u001b[0mall_interfaces\u001b[0m \u001b[0;34m=\u001b[0m \u001b[0mget_tshark_interfaces\u001b[0m\u001b[0;34m(\u001b[0m\u001b[0mtshark_path\u001b[0m\u001b[0;34m)\u001b[0m\u001b[0;34m\u001b[0m\u001b[0m\n\u001b[0m\u001b[1;32m     59\u001b[0m         \u001b[0;32mif\u001b[0m \u001b[0minterface\u001b[0m \u001b[0;32mis\u001b[0m \u001b[0;32mNone\u001b[0m\u001b[0;34m:\u001b[0m\u001b[0;34m\u001b[0m\u001b[0m\n\u001b[1;32m     60\u001b[0m             \u001b[0mself\u001b[0m\u001b[0;34m.\u001b[0m\u001b[0minterfaces\u001b[0m \u001b[0;34m=\u001b[0m \u001b[0mall_interfaces\u001b[0m\u001b[0;34m\u001b[0m\u001b[0m\n",
      "\u001b[0;32m~/gsq_workplace/anconda3/lib/python3.7/site-packages/pyshark/tshark/tshark.py\u001b[0m in \u001b[0;36mget_tshark_interfaces\u001b[0;34m(tshark_path)\u001b[0m\n\u001b[1;32m    110\u001b[0m     \u001b[0mUsed\u001b[0m \u001b[0minternally\u001b[0m \u001b[0mto\u001b[0m \u001b[0mcapture\u001b[0m \u001b[0mon\u001b[0m \u001b[0mmultiple\u001b[0m \u001b[0minterfaces\u001b[0m\u001b[0;34m.\u001b[0m\u001b[0;34m\u001b[0m\u001b[0m\n\u001b[1;32m    111\u001b[0m     \"\"\"\n\u001b[0;32m--> 112\u001b[0;31m     \u001b[0mparameters\u001b[0m \u001b[0;34m=\u001b[0m \u001b[0;34m[\u001b[0m\u001b[0mget_process_path\u001b[0m\u001b[0;34m(\u001b[0m\u001b[0mtshark_path\u001b[0m\u001b[0;34m)\u001b[0m\u001b[0;34m,\u001b[0m \u001b[0;34m\"-D\"\u001b[0m\u001b[0;34m]\u001b[0m\u001b[0;34m\u001b[0m\u001b[0m\n\u001b[0m\u001b[1;32m    113\u001b[0m     \u001b[0;32mwith\u001b[0m \u001b[0mopen\u001b[0m\u001b[0;34m(\u001b[0m\u001b[0mos\u001b[0m\u001b[0;34m.\u001b[0m\u001b[0mdevnull\u001b[0m\u001b[0;34m,\u001b[0m \u001b[0;34m\"w\"\u001b[0m\u001b[0;34m)\u001b[0m \u001b[0;32mas\u001b[0m \u001b[0mnull\u001b[0m\u001b[0;34m:\u001b[0m\u001b[0;34m\u001b[0m\u001b[0m\n\u001b[1;32m    114\u001b[0m         \u001b[0mtshark_interfaces\u001b[0m \u001b[0;34m=\u001b[0m \u001b[0msubprocess\u001b[0m\u001b[0;34m.\u001b[0m\u001b[0mcheck_output\u001b[0m\u001b[0;34m(\u001b[0m\u001b[0mparameters\u001b[0m\u001b[0;34m,\u001b[0m \u001b[0mstderr\u001b[0m\u001b[0;34m=\u001b[0m\u001b[0mnull\u001b[0m\u001b[0;34m)\u001b[0m\u001b[0;34m.\u001b[0m\u001b[0mdecode\u001b[0m\u001b[0;34m(\u001b[0m\u001b[0;34m\"utf-8\"\u001b[0m\u001b[0;34m)\u001b[0m\u001b[0;34m\u001b[0m\u001b[0m\n",
      "\u001b[0;32m~/gsq_workplace/anconda3/lib/python3.7/site-packages/pyshark/tshark/tshark.py\u001b[0m in \u001b[0;36mget_process_path\u001b[0;34m(tshark_path, process_name)\u001b[0m\n\u001b[1;32m     70\u001b[0m     raise TSharkNotFoundException(\n\u001b[1;32m     71\u001b[0m         \u001b[0;34m\"TShark not found. Try adding its location to the configuration file. \"\u001b[0m\u001b[0;34m\u001b[0m\u001b[0m\n\u001b[0;32m---> 72\u001b[0;31m         \u001b[0;34m\"Searched these paths: {}\"\u001b[0m\u001b[0;34m.\u001b[0m\u001b[0mformat\u001b[0m\u001b[0;34m(\u001b[0m\u001b[0mpossible_paths\u001b[0m\u001b[0;34m)\u001b[0m\u001b[0;34m\u001b[0m\u001b[0m\n\u001b[0m\u001b[1;32m     73\u001b[0m     )\n\u001b[1;32m     74\u001b[0m \u001b[0;34m\u001b[0m\u001b[0m\n",
      "\u001b[0;31mTSharkNotFoundException\u001b[0m: TShark not found. Try adding its location to the configuration file. Searched these paths: ['C:\\\\Program Files\\\\Wireshark\\\\tshark.exe', '/root/gsq_workplace/anconda3/bin/tshark', '/root/gsq_workplace/anconda3/condabin/tshark', '/root/.vscode-server/bin/d045a5eda657f4d7b676dedbfa7aab8207f8a075/bin/remote-cli/tshark', '/root/gsq_wordplace/anaconda3/bin/tshark', '/root/gsq_wordplace/anaconda3/bin/tshark', '/usr/local/sbin/tshark', '/usr/local/bin/tshark', '/usr/sbin/tshark', '/usr/bin/tshark', '/sbin/tshark', '/bin/tshark', '/snap/bin/tshark']"
     ]
    }
   ],
   "source": [
    "capture, length = NetworkMonitor.get_packets(interface='en0', timeout=60, display_filter = 'tcp.port == 8777')"
   ]
  }
 ],
 "metadata": {
  "kernelspec": {
   "display_name": "Python 3.7.0 ('base': conda)",
   "language": "python",
   "name": "python3"
  },
  "language_info": {
   "codemirror_mode": {
    "name": "ipython",
    "version": 3
   },
   "file_extension": ".py",
   "mimetype": "text/x-python",
   "name": "python",
   "nbconvert_exporter": "python",
   "pygments_lexer": "ipython3",
   "version": "3.7.0"
  },
  "orig_nbformat": 4,
  "vscode": {
   "interpreter": {
    "hash": "4c49fdcc39f9ffebd2a7e631db0f303cc4a52534a0fd828d3c1386cf51ba766a"
   }
  }
 },
 "nbformat": 4,
 "nbformat_minor": 2
}
