{
 "cells": [
  {
   "cell_type": "code",
   "execution_count": 1,
   "metadata": {},
   "outputs": [],
   "source": [
    "import time\n",
    "import torch\n",
    "import torch.nn as nn\n",
    "import torch.nn.functional as F\n",
    "from torchvision import datasets, transforms\n",
    "import syft as sy\n",
    "\n",
    "from data import get_private_data_loaders\n",
    "from procedure_copy import train, test"
   ]
  },
  {
   "cell_type": "code",
   "execution_count": 2,
   "metadata": {},
   "outputs": [],
   "source": [
    "# 定义一些常数\n",
    "n_train_items = 12800\n",
    "n_test_items = 1280\n",
    "\n",
    "# 定义参与方Alice（P0）和Bob（P1），以及可信第三方crypto_provider\n",
    "hook = sy.TorchHook(torch) \n",
    "bob = sy.VirtualWorker(hook, id=\"bob\")\n",
    "alice = sy.VirtualWorker(hook, id=\"alice\")\n",
    "crypto_provider = sy.VirtualWorker(hook, id=\"crypto_provider\")\n",
    "\n",
    "workers = [alice, bob]\n",
    "sy.local_worker.clients = workers"
   ]
  },
  {
   "cell_type": "code",
   "execution_count": 3,
   "metadata": {},
   "outputs": [],
   "source": [
    "# 定义参数类\n",
    "class Arguments():\n",
    "    def __init__(self):\n",
    "        self.batch_size = 128       # 训练时小批量大小\n",
    "        self.test_batch_size = 32   # 验证时小批量大小\n",
    "\n",
    "        self.n_train_items = n_train_items      # 调整训练数据条目数量\n",
    "        self.n_test_items = n_test_items        # 调整测试数据条目数量\n",
    "\n",
    "        self.epochs = 2            # 训练epoch大小\n",
    "        self.lr = 0.01              # 学习率\n",
    "        self.seed = 1\n",
    "        self.momentum = 0.9\n",
    "        self.log_interval = 1      # 每个epoch的日志信息\n",
    "        self.precision_fractional = 3   # 小数部分的精度\n",
    "        self.requires_grad = True       # requires_grad是Pytorch中通用数据结构Tensor的一个属性，用于说明当前量是否需要在计算中保留对应的梯度信息\n",
    "        self.protocol = \"fss\"\n",
    "        self.dtype = \"long\"\n",
    "\n",
    "# 定义神经网络：使用3层全连接神经网络\n",
    "class FCNN(nn.Module):\n",
    "    def __init__(self):\n",
    "        super(FCNN, self).__init__()\n",
    "        self.fc1 = nn.Linear(784, 128)     # 784 == 28*28\n",
    "        self.fc2 = nn.Linear(128, 128)\n",
    "        self.fc3 = nn.Linear(128, 10)      # MNIST数据集的分类0～9，共10个类别\n",
    "    \n",
    "    def forward(self, x):                # 前向传播\n",
    "        x = x.reshape(-1, 784)\n",
    "        x = F.relu(self.fc1(x))          # 此处的relu函数是秘密协议中的relu函数，不能自定义\n",
    "        x = F.relu(self.fc2(x))\n",
    "        x = F.relu(self.fc3(x))\n",
    "        return x"
   ]
  },
  {
   "cell_type": "code",
   "execution_count": 4,
   "metadata": {},
   "outputs": [
    {
     "name": "stdout",
     "output_type": "stream",
     "text": [
      "================================================\n",
      "(AriaNN) Ciphertext Training over 1 epochs\n",
      "model:\t\t Fully Connected Neural Network\n",
      "dataset:\t MNIST\n",
      "batch_size:\t 128\n",
      "================================================\n",
      "Train Epoch: 1 [0/12800 (0%)]\tLoss: 0.981000\tTime: 14.758s (0.115s/item)\tComm.:96.553MB [128.000]\n",
      "Train Epoch: 1 [1280/12800 (10%)]\tLoss: 0.782000\tTime: 15.187s (0.119s/item)\tComm.:96.555MB [128.000]\n",
      "Train Epoch: 1 [2560/12800 (20%)]\tLoss: 0.605000\tTime: 16.130s (0.126s/item)\tComm.:96.555MB [128.000]\n",
      "Train Epoch: 1 [3840/12800 (30%)]\tLoss: 0.536000\tTime: 17.025s (0.133s/item)\tComm.:96.555MB [128.000]\n",
      "Train Epoch: 1 [5120/12800 (40%)]\tLoss: 0.506000\tTime: 17.256s (0.135s/item)\tComm.:96.555MB [128.000]\n",
      "Train Epoch: 1 [6400/12800 (50%)]\tLoss: 0.411000\tTime: 17.527s (0.137s/item)\tComm.:96.555MB [128.000]\n",
      "Train Epoch: 1 [7680/12800 (60%)]\tLoss: 0.440000\tTime: 18.125s (0.142s/item)\tComm.:96.555MB [128.000]\n",
      "Train Epoch: 1 [8960/12800 (70%)]\tLoss: 0.382000\tTime: 18.496s (0.144s/item)\tComm.:96.555MB [128.000]\n",
      "Train Epoch: 1 [10240/12800 (80%)]\tLoss: 0.489000\tTime: 18.205s (0.142s/item)\tComm.:96.555MB [128.000]\n",
      "Train Epoch: 1 [11520/12800 (90%)]\tLoss: 0.472000\tTime: 18.190s (0.142s/item)\tComm.:96.555MB [128.000]\n",
      "\n",
      "Accuracy: 27/32 (84%) \tTime / item: 0.1853s\n",
      "Accuracy: 124/160 (78%) \tTime / item: 0.1817s\n",
      "Accuracy: 222/288 (77%) \tTime / item: 0.1812s\n",
      "Accuracy: 323/416 (78%) \tTime / item: 0.1818s\n",
      "Accuracy: 421/544 (77%) \tTime / item: 0.1824s\n",
      "Accuracy: 515/672 (77%) \tTime / item: 0.1839s\n",
      "Accuracy: 613/800 (77%) \tTime / item: 0.1837s\n",
      "Accuracy: 715/928 (77%) \tTime / item: 0.1840s\n",
      "Accuracy: 813/1056 (77%) \tTime / item: 0.1843s\n",
      "Accuracy: 911/1184 (77%) \tTime / item: 0.1847s\n",
      "TEST Accuracy: 974.0/1280 (76.09%) \tTime /item: 0.1846s \tTime w. argmax /item: 0.1919s [32.000]\n",
      "\n",
      "================================================\n",
      "Online training time: 1731.77527s, and online training comm. is 9655.52637MB\n",
      "================================================\n",
      "Accuracy: 27/32 (84%) \tTime / item: 0.1813s\n",
      "Accuracy: 124/160 (78%) \tTime / item: 0.1883s\n",
      "Accuracy: 222/288 (77%) \tTime / item: 0.1873s\n",
      "Accuracy: 323/416 (78%) \tTime / item: 0.1876s\n",
      "Accuracy: 421/544 (77%) \tTime / item: 0.1890s\n",
      "Accuracy: 515/672 (77%) \tTime / item: 0.1891s\n",
      "Accuracy: 613/800 (77%) \tTime / item: 0.1885s\n",
      "Accuracy: 714/928 (77%) \tTime / item: 0.1882s\n",
      "Accuracy: 812/1056 (77%) \tTime / item: 0.1882s\n",
      "Accuracy: 910/1184 (77%) \tTime / item: 0.1881s\n",
      "TEST Accuracy: 973.0/1280 (76.02%) \tTime /item: 0.1885s \tTime w. argmax /item: 0.1961s [32.000]\n",
      "\n"
     ]
    }
   ],
   "source": [
    "# 模型训练，并进行验证\n",
    "if __name__ == \"__main__\":\n",
    "\n",
    "    # 创建和定义参数\n",
    "    args = Arguments()\n",
    "    _ = torch.manual_seed(args.seed)    # 为CPU设置种子用于生成随机数\n",
    "\n",
    "    encryption_kwargs = dict(      # 创建加密关键字参数\n",
    "        workers=workers, crypto_provider=crypto_provider, protocol=args.protocol    # 在这里调用了fss\n",
    "    )\n",
    "    kwargs = dict(                  # 创建普通关键字参数\n",
    "        requires_grad=args.requires_grad,   # requires_grad是Pytorch中通用数据结构Tensor的一个属性，用于说明当前量是否需要在计算中保留对应的梯度信息\n",
    "        precision_fractional=args.precision_fractional,\n",
    "        dtype=args.dtype,\n",
    "        **encryption_kwargs,        # kwargs包含上述定义的加密关键字参数\n",
    "    )\n",
    "\n",
    "    # 打印模型训练信息\n",
    "    print(\"================================================\")\n",
    "    print(f\"(AriaNN) Ciphertext Training over {args.epochs} epochs\")\n",
    "    print(\"model:\\t\\t\", \"Fully Connected Neural Network\")\n",
    "    print(\"dataset:\\t\", \"MNIST\")\n",
    "    print(\"batch_size:\\t\", args.batch_size)\n",
    "    print(\"================================================\")\n",
    "\n",
    "    # 获得密文状态下训练数据和测试数据\n",
    "    private_train_loader, private_test_loader = get_private_data_loaders(args, kwargs)\n",
    "\n",
    "    # 模型训练\n",
    "    model = FCNN()\n",
    "    model.encrypt(**kwargs)\n",
    "\n",
    "    optimizer = torch.optim.SGD(model.parameters(), lr=args.lr, momentum=args.momentum)\n",
    "    # optimizer = torch.optim.SGD(model.parameters(), lr=args.lr)\n",
    "    optimizer = optimizer.fix_precision(\n",
    "                    precision_fractional=args.precision_fractional, dtype=args.dtype\n",
    "                )\n",
    "\n",
    "    trianing_times = []\n",
    "    trianing_comm = []\n",
    "\n",
    "    for epoch in range(1, args.epochs + 1):\n",
    "        (trianing_times_epoch, trianing_comm_epoch) = train(args, model, private_train_loader, optimizer, epoch)\n",
    "        \n",
    "        trianing_times.append(trianing_times_epoch)\n",
    "        trianing_comm.append(trianing_comm_epoch)\n",
    "\n",
    "        test(args, model, private_test_loader)\n",
    "    \n",
    "\n",
    "\n",
    "    print(\"================================================\")\n",
    "    print(\"Online training time: {:.5f}s, and online training comm. is {:.5f}MB\"\n",
    "         .format(torch.tensor(trianing_times).mean().item(),\n",
    "                 torch.tensor(trianing_comm ).mean().item()))\n",
    "    print(\"================================================\")\n",
    "\n",
    "    # 模型测试\n",
    "    test(args, model, private_test_loader)"
   ]
  },
  {
   "cell_type": "code",
   "execution_count": 5,
   "metadata": {},
   "outputs": [
    {
     "data": {
      "text/plain": [
       "[1731.7752685546875]"
      ]
     },
     "execution_count": 5,
     "metadata": {},
     "output_type": "execute_result"
    }
   ],
   "source": [
    "trianing_times"
   ]
  },
  {
   "cell_type": "code",
   "execution_count": 6,
   "metadata": {},
   "outputs": [
    {
     "data": {
      "text/plain": [
       "[9655.5263671875]"
      ]
     },
     "execution_count": 6,
     "metadata": {},
     "output_type": "execute_result"
    }
   ],
   "source": [
    "trianing_comm"
   ]
  },
  {
   "cell_type": "code",
   "execution_count": null,
   "metadata": {},
   "outputs": [],
   "source": []
  },
  {
   "cell_type": "code",
   "execution_count": null,
   "metadata": {},
   "outputs": [],
   "source": []
  },
  {
   "cell_type": "code",
   "execution_count": null,
   "metadata": {},
   "outputs": [],
   "source": []
  },
  {
   "cell_type": "code",
   "execution_count": null,
   "metadata": {},
   "outputs": [],
   "source": []
  },
  {
   "cell_type": "code",
   "execution_count": null,
   "metadata": {},
   "outputs": [],
   "source": []
  },
  {
   "cell_type": "code",
   "execution_count": null,
   "metadata": {},
   "outputs": [],
   "source": []
  }
 ],
 "metadata": {
  "kernelspec": {
   "display_name": "base",
   "language": "python",
   "name": "python3"
  },
  "language_info": {
   "codemirror_mode": {
    "name": "ipython",
    "version": 3
   },
   "file_extension": ".py",
   "mimetype": "text/x-python",
   "name": "python",
   "nbconvert_exporter": "python",
   "pygments_lexer": "ipython3",
   "version": "3.7.0 (default, Oct  9 2018, 10:31:47) \n[GCC 7.3.0]"
  },
  "orig_nbformat": 4,
  "vscode": {
   "interpreter": {
    "hash": "4c49fdcc39f9ffebd2a7e631db0f303cc4a52534a0fd828d3c1386cf51ba766a"
   }
  }
 },
 "nbformat": 4,
 "nbformat_minor": 2
}
