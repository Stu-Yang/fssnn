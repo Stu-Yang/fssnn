{
 "cells": [
  {
   "cell_type": "code",
   "execution_count": null,
   "metadata": {},
   "outputs": [],
   "source": [
    "# 导入一些包\n",
    "import time\n",
    "import torch\n",
    "import torch.nn as nn\n",
    "import torch.nn.functional as F\n",
    "from torchvision import datasets, transforms\n",
    "import syft as sy"
   ]
  },
  {
   "cell_type": "code",
   "execution_count": null,
   "metadata": {},
   "outputs": [],
   "source": [
    "# 定义一些常数\n",
    "n_train_items = 12800\n",
    "n_test_items = 2560\n",
    "\n",
    "# 定义参与方Alice（P0）和Bob（P1），以及可信第三方crypto_provider\n",
    "hook = sy.TorchHook(torch) \n",
    "bob = sy.VirtualWorker(hook, id=\"bob\")\n",
    "alice = sy.VirtualWorker(hook, id=\"alice\")\n",
    "crypto_provider = sy.VirtualWorker(hook, id=\"crypto_provider\")\n",
    "\n",
    "workers = [alice, bob]\n",
    "sy.local_worker.clients = workers"
   ]
  },
  {
   "cell_type": "code",
   "execution_count": null,
   "metadata": {},
   "outputs": [],
   "source": [
    "# 定义参数类\n",
    "class Arguments():\n",
    "    def __init__(self):\n",
    "        self.batch_size = 128       # 训练时小批量大小\n",
    "        self.test_batch_size = 32   # 验证时小批量大小\n",
    "\n",
    "        self.n_train_items = n_train_items      # 调整训练数据条目数量\n",
    "        self.n_test_items = n_test_items        # 调整测试数据条目数量\n",
    "\n",
    "        self.epochs = 2            # 训练epoch大小\n",
    "        self.lr = 0.01              # 学习率\n",
    "        self.seed = 1\n",
    "        self.momentum = 0.9\n",
    "        self.log_interval = 1      # 每个epoch的日志信息\n",
    "        self.precision_fractional = 3   # 小数部分的精度\n",
    "        self.requires_grad = True       # requires_grad是Pytorch中通用数据结构Tensor的一个属性，用于说明当前量是否需要在计算中保留对应的梯度信息\n",
    "        self.protocol = \"fss\"\n",
    "        self.dtype = \"long\"\n",
    "\n",
    "# 定义神经网络：使用3层全连接神经网络\n",
    "class FCNN(nn.Module):\n",
    "    def __init__(self):\n",
    "        super(FCNN, self).__init__()\n",
    "        self.fc1 = nn.Linear(784, 128)     # 784 == 28*28\n",
    "        self.fc2 = nn.Linear(128, 128)\n",
    "        self.fc3 = nn.Linear(128, 10)      # MNIST数据集的分类0～9，共10个类别\n",
    "    \n",
    "    def forward(self, x):                # 前向传播\n",
    "        x = x.reshape(-1, 784)\n",
    "        x = F.relu(self.fc1(x))          # 此处的relu函数是秘密协议中的relu函数，不能自定义\n",
    "        x = F.relu(self.fc2(x))\n",
    "        x = F.relu(self.fc3(x))\n",
    "        return x"
   ]
  },
  {
   "cell_type": "code",
   "execution_count": null,
   "metadata": {},
   "outputs": [],
   "source": [
    "# 创建和定义参数\n",
    "args = Arguments()\n",
    "_ = torch.manual_seed(args.seed)    # 为CPU设置种子用于生成随机数\n",
    "\n",
    "encryption_kwargs = dict(      # 创建加密关键字参数\n",
    "    workers=workers, crypto_provider=crypto_provider, protocol=args.protocol    # 在这里调用了fss\n",
    ")\n",
    "kwargs = dict(                  # 创建普通关键字参数\n",
    "    requires_grad=args.requires_grad,   # requires_grad是Pytorch中通用数据结构Tensor的一个属性，用于说明当前量是否需要在计算中保留对应的梯度信息\n",
    "    precision_fractional=args.precision_fractional,\n",
    "    dtype=args.dtype,\n",
    "    **encryption_kwargs,        # kwargs包含上述定义的加密关键字参数\n",
    ")"
   ]
  },
  {
   "cell_type": "code",
   "execution_count": null,
   "metadata": {},
   "outputs": [],
   "source": [
    "# 模型训练\n",
    "model = FCNN()\n",
    "model.encrypt(**kwargs)"
   ]
  },
  {
   "cell_type": "code",
   "execution_count": null,
   "metadata": {},
   "outputs": [],
   "source": [
    "model2 = FCNN()\n",
    "model2 = model2.fix_precision().share(*workers, crypto_provider=crypto_provider, protocol=\"fss\", requires_grad=True)\n",
    "model2"
   ]
  },
  {
   "cell_type": "code",
   "execution_count": null,
   "metadata": {},
   "outputs": [],
   "source": [
    "model3 = FCNN()\n",
    "help(model3.fix_precision())"
   ]
  }
 ],
 "metadata": {
  "kernelspec": {
   "display_name": "pysyft",
   "language": "python",
   "name": "python3"
  },
  "language_info": {
   "codemirror_mode": {
    "name": "ipython",
    "version": 3
   },
   "file_extension": ".py",
   "mimetype": "text/x-python",
   "name": "python",
   "nbconvert_exporter": "python",
   "pygments_lexer": "ipython3",
   "version": "3.7.15 (default, Nov 24 2022, 21:12:53) \n[GCC 11.2.0]"
  },
  "orig_nbformat": 4,
  "vscode": {
   "interpreter": {
    "hash": "3ab6f450651f3ceb6ad9b3865971c92af673117246914f80384818105079b3db"
   }
  }
 },
 "nbformat": 4,
 "nbformat_minor": 2
}
